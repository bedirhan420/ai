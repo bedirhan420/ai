{
 "cells": [
  {
   "cell_type": "code",
   "execution_count": 2,
   "id": "74dce9b0",
   "metadata": {},
   "outputs": [],
   "source": [
    "#kütüphane ekleme\n",
    "import pandas as pd\n",
    "import numpy as np\n",
    "import matplotlib.pyplot as plt\n",
    "from sklearn.impute import SimpleImputer\n",
    "from sklearn import preprocessing\n",
    "from sklearn.preprocessing import OneHotEncoder,StandardScaler\n",
    "from sklearn.model_selection import train_test_split\n",
    "from sklearn.linear_model import LinearRegression\n",
    "import statsmodels.api as sm\n",
    "from sklearn.preprocessing import PolynomialFeatures\n",
    "from sklearn.svm import SVR\n",
    "from sklearn.tree import DecisionTreeRegressor\n",
    "from sklearn.ensemble import RandomForestRegressor\n",
    "from sklearn.metrics import r2_score"
   ]
  },
  {
   "cell_type": "code",
   "execution_count": 3,
   "id": "2d4f4763",
   "metadata": {},
   "outputs": [
    {
     "data": {
      "text/html": [
       "<div>\n",
       "<style scoped>\n",
       "    .dataframe tbody tr th:only-of-type {\n",
       "        vertical-align: middle;\n",
       "    }\n",
       "\n",
       "    .dataframe tbody tr th {\n",
       "        vertical-align: top;\n",
       "    }\n",
       "\n",
       "    .dataframe thead th {\n",
       "        text-align: right;\n",
       "    }\n",
       "</style>\n",
       "<table border=\"1\" class=\"dataframe\">\n",
       "  <thead>\n",
       "    <tr style=\"text-align: right;\">\n",
       "      <th></th>\n",
       "      <th>Calisan ID</th>\n",
       "      <th>unvan</th>\n",
       "      <th>UnvanSeviyesi</th>\n",
       "      <th>Kidem</th>\n",
       "      <th>Puan</th>\n",
       "      <th>maas</th>\n",
       "    </tr>\n",
       "  </thead>\n",
       "  <tbody>\n",
       "    <tr>\n",
       "      <th>0</th>\n",
       "      <td>1</td>\n",
       "      <td>Cayci</td>\n",
       "      <td>1</td>\n",
       "      <td>5</td>\n",
       "      <td>70</td>\n",
       "      <td>2250</td>\n",
       "    </tr>\n",
       "    <tr>\n",
       "      <th>1</th>\n",
       "      <td>2</td>\n",
       "      <td>Sekreter</td>\n",
       "      <td>2</td>\n",
       "      <td>5</td>\n",
       "      <td>70</td>\n",
       "      <td>2500</td>\n",
       "    </tr>\n",
       "    <tr>\n",
       "      <th>2</th>\n",
       "      <td>3</td>\n",
       "      <td>Uzman Yardimcisi</td>\n",
       "      <td>3</td>\n",
       "      <td>5</td>\n",
       "      <td>70</td>\n",
       "      <td>3000</td>\n",
       "    </tr>\n",
       "    <tr>\n",
       "      <th>3</th>\n",
       "      <td>4</td>\n",
       "      <td>Uzman</td>\n",
       "      <td>4</td>\n",
       "      <td>5</td>\n",
       "      <td>70</td>\n",
       "      <td>4000</td>\n",
       "    </tr>\n",
       "    <tr>\n",
       "      <th>4</th>\n",
       "      <td>5</td>\n",
       "      <td>Proje Yoneticisi</td>\n",
       "      <td>5</td>\n",
       "      <td>5</td>\n",
       "      <td>70</td>\n",
       "      <td>5500</td>\n",
       "    </tr>\n",
       "    <tr>\n",
       "      <th>5</th>\n",
       "      <td>6</td>\n",
       "      <td>Sef</td>\n",
       "      <td>6</td>\n",
       "      <td>5</td>\n",
       "      <td>70</td>\n",
       "      <td>7500</td>\n",
       "    </tr>\n",
       "    <tr>\n",
       "      <th>6</th>\n",
       "      <td>7</td>\n",
       "      <td>Mudur</td>\n",
       "      <td>7</td>\n",
       "      <td>5</td>\n",
       "      <td>70</td>\n",
       "      <td>10000</td>\n",
       "    </tr>\n",
       "    <tr>\n",
       "      <th>7</th>\n",
       "      <td>8</td>\n",
       "      <td>Direktor</td>\n",
       "      <td>8</td>\n",
       "      <td>5</td>\n",
       "      <td>70</td>\n",
       "      <td>15000</td>\n",
       "    </tr>\n",
       "    <tr>\n",
       "      <th>8</th>\n",
       "      <td>9</td>\n",
       "      <td>C-level</td>\n",
       "      <td>9</td>\n",
       "      <td>5</td>\n",
       "      <td>70</td>\n",
       "      <td>25000</td>\n",
       "    </tr>\n",
       "    <tr>\n",
       "      <th>9</th>\n",
       "      <td>10</td>\n",
       "      <td>CEO</td>\n",
       "      <td>10</td>\n",
       "      <td>5</td>\n",
       "      <td>70</td>\n",
       "      <td>50000</td>\n",
       "    </tr>\n",
       "    <tr>\n",
       "      <th>10</th>\n",
       "      <td>11</td>\n",
       "      <td>Cayci</td>\n",
       "      <td>1</td>\n",
       "      <td>7</td>\n",
       "      <td>99</td>\n",
       "      <td>2000</td>\n",
       "    </tr>\n",
       "    <tr>\n",
       "      <th>11</th>\n",
       "      <td>12</td>\n",
       "      <td>Sekreter</td>\n",
       "      <td>2</td>\n",
       "      <td>7</td>\n",
       "      <td>9</td>\n",
       "      <td>2500</td>\n",
       "    </tr>\n",
       "    <tr>\n",
       "      <th>12</th>\n",
       "      <td>13</td>\n",
       "      <td>Uzman Yardimcisi</td>\n",
       "      <td>3</td>\n",
       "      <td>7</td>\n",
       "      <td>62</td>\n",
       "      <td>4000</td>\n",
       "    </tr>\n",
       "    <tr>\n",
       "      <th>13</th>\n",
       "      <td>14</td>\n",
       "      <td>Uzman</td>\n",
       "      <td>4</td>\n",
       "      <td>4</td>\n",
       "      <td>38</td>\n",
       "      <td>3000</td>\n",
       "    </tr>\n",
       "    <tr>\n",
       "      <th>14</th>\n",
       "      <td>15</td>\n",
       "      <td>Proje Yoneticisi</td>\n",
       "      <td>5</td>\n",
       "      <td>1</td>\n",
       "      <td>80</td>\n",
       "      <td>5000</td>\n",
       "    </tr>\n",
       "    <tr>\n",
       "      <th>15</th>\n",
       "      <td>16</td>\n",
       "      <td>Sef</td>\n",
       "      <td>6</td>\n",
       "      <td>2</td>\n",
       "      <td>35</td>\n",
       "      <td>5000</td>\n",
       "    </tr>\n",
       "    <tr>\n",
       "      <th>16</th>\n",
       "      <td>17</td>\n",
       "      <td>Mudur</td>\n",
       "      <td>7</td>\n",
       "      <td>8</td>\n",
       "      <td>99</td>\n",
       "      <td>12000</td>\n",
       "    </tr>\n",
       "    <tr>\n",
       "      <th>17</th>\n",
       "      <td>18</td>\n",
       "      <td>Direktor</td>\n",
       "      <td>8</td>\n",
       "      <td>4</td>\n",
       "      <td>58</td>\n",
       "      <td>11000</td>\n",
       "    </tr>\n",
       "    <tr>\n",
       "      <th>18</th>\n",
       "      <td>19</td>\n",
       "      <td>C-level</td>\n",
       "      <td>9</td>\n",
       "      <td>2</td>\n",
       "      <td>20</td>\n",
       "      <td>15000</td>\n",
       "    </tr>\n",
       "    <tr>\n",
       "      <th>19</th>\n",
       "      <td>20</td>\n",
       "      <td>CEO</td>\n",
       "      <td>10</td>\n",
       "      <td>4</td>\n",
       "      <td>42</td>\n",
       "      <td>22000</td>\n",
       "    </tr>\n",
       "    <tr>\n",
       "      <th>20</th>\n",
       "      <td>21</td>\n",
       "      <td>Cayci</td>\n",
       "      <td>1</td>\n",
       "      <td>8</td>\n",
       "      <td>11</td>\n",
       "      <td>2200</td>\n",
       "    </tr>\n",
       "    <tr>\n",
       "      <th>21</th>\n",
       "      <td>22</td>\n",
       "      <td>Sekreter</td>\n",
       "      <td>2</td>\n",
       "      <td>2</td>\n",
       "      <td>53</td>\n",
       "      <td>2200</td>\n",
       "    </tr>\n",
       "    <tr>\n",
       "      <th>22</th>\n",
       "      <td>23</td>\n",
       "      <td>Uzman Yardimcisi</td>\n",
       "      <td>3</td>\n",
       "      <td>8</td>\n",
       "      <td>50</td>\n",
       "      <td>2800</td>\n",
       "    </tr>\n",
       "    <tr>\n",
       "      <th>23</th>\n",
       "      <td>24</td>\n",
       "      <td>Uzman</td>\n",
       "      <td>4</td>\n",
       "      <td>9</td>\n",
       "      <td>91</td>\n",
       "      <td>6000</td>\n",
       "    </tr>\n",
       "    <tr>\n",
       "      <th>24</th>\n",
       "      <td>25</td>\n",
       "      <td>Proje Yoneticisi</td>\n",
       "      <td>5</td>\n",
       "      <td>9</td>\n",
       "      <td>71</td>\n",
       "      <td>5400</td>\n",
       "    </tr>\n",
       "    <tr>\n",
       "      <th>25</th>\n",
       "      <td>26</td>\n",
       "      <td>Sef</td>\n",
       "      <td>6</td>\n",
       "      <td>1</td>\n",
       "      <td>2</td>\n",
       "      <td>4000</td>\n",
       "    </tr>\n",
       "    <tr>\n",
       "      <th>26</th>\n",
       "      <td>27</td>\n",
       "      <td>Mudur</td>\n",
       "      <td>7</td>\n",
       "      <td>10</td>\n",
       "      <td>81</td>\n",
       "      <td>12000</td>\n",
       "    </tr>\n",
       "    <tr>\n",
       "      <th>27</th>\n",
       "      <td>28</td>\n",
       "      <td>Direktor</td>\n",
       "      <td>8</td>\n",
       "      <td>10</td>\n",
       "      <td>38</td>\n",
       "      <td>10000</td>\n",
       "    </tr>\n",
       "    <tr>\n",
       "      <th>28</th>\n",
       "      <td>29</td>\n",
       "      <td>C-level</td>\n",
       "      <td>9</td>\n",
       "      <td>1</td>\n",
       "      <td>50</td>\n",
       "      <td>15000</td>\n",
       "    </tr>\n",
       "    <tr>\n",
       "      <th>29</th>\n",
       "      <td>30</td>\n",
       "      <td>CEO</td>\n",
       "      <td>10</td>\n",
       "      <td>9</td>\n",
       "      <td>83</td>\n",
       "      <td>60000</td>\n",
       "    </tr>\n",
       "  </tbody>\n",
       "</table>\n",
       "</div>"
      ],
      "text/plain": [
       "    Calisan ID             unvan  UnvanSeviyesi  Kidem  Puan   maas\n",
       "0            1             Cayci              1      5    70   2250\n",
       "1            2          Sekreter              2      5    70   2500\n",
       "2            3  Uzman Yardimcisi              3      5    70   3000\n",
       "3            4             Uzman              4      5    70   4000\n",
       "4            5  Proje Yoneticisi              5      5    70   5500\n",
       "5            6               Sef              6      5    70   7500\n",
       "6            7             Mudur              7      5    70  10000\n",
       "7            8          Direktor              8      5    70  15000\n",
       "8            9           C-level              9      5    70  25000\n",
       "9           10               CEO             10      5    70  50000\n",
       "10          11             Cayci              1      7    99   2000\n",
       "11          12          Sekreter              2      7     9   2500\n",
       "12          13  Uzman Yardimcisi              3      7    62   4000\n",
       "13          14             Uzman              4      4    38   3000\n",
       "14          15  Proje Yoneticisi              5      1    80   5000\n",
       "15          16               Sef              6      2    35   5000\n",
       "16          17             Mudur              7      8    99  12000\n",
       "17          18          Direktor              8      4    58  11000\n",
       "18          19           C-level              9      2    20  15000\n",
       "19          20               CEO             10      4    42  22000\n",
       "20          21             Cayci              1      8    11   2200\n",
       "21          22          Sekreter              2      2    53   2200\n",
       "22          23  Uzman Yardimcisi              3      8    50   2800\n",
       "23          24             Uzman              4      9    91   6000\n",
       "24          25  Proje Yoneticisi              5      9    71   5400\n",
       "25          26               Sef              6      1     2   4000\n",
       "26          27             Mudur              7     10    81  12000\n",
       "27          28          Direktor              8     10    38  10000\n",
       "28          29           C-level              9      1    50  15000\n",
       "29          30               CEO             10      9    83  60000"
      ]
     },
     "execution_count": 3,
     "metadata": {},
     "output_type": "execute_result"
    }
   ],
   "source": [
    "#veri yükleme\n",
    "data=pd.read_csv(\"C:/Users/bedir/Downloads/maaslar_yeni.csv\")\n",
    "data"
   ]
  },
  {
   "cell_type": "markdown",
   "id": "359c0ad1",
   "metadata": {},
   "source": [
    "# MLR"
   ]
  },
  {
   "cell_type": "code",
   "execution_count": 4,
   "id": "b9b6dc0b",
   "metadata": {},
   "outputs": [],
   "source": [
    "x = data.iloc[:,2:5]\n",
    "y = data.iloc[:,5:]\n",
    "X = x.values\n",
    "Y = y.values\n",
    "\n"
   ]
  },
  {
   "cell_type": "code",
   "execution_count": 20,
   "id": "b3c9ac53",
   "metadata": {},
   "outputs": [
    {
     "name": "stdout",
     "output_type": "stream",
     "text": [
      "                                 OLS Regression Results                                \n",
      "=======================================================================================\n",
      "Dep. Variable:                      y   R-squared (uncentered):                   0.903\n",
      "Model:                            OLS   Adj. R-squared (uncentered):              0.892\n",
      "Method:                 Least Squares   F-statistic:                              83.89\n",
      "Date:                Thu, 15 Jun 2023   Prob (F-statistic):                    8.38e-14\n",
      "Time:                        15:20:00   Log-Likelihood:                         -295.74\n",
      "No. Observations:                  30   AIC:                                      597.5\n",
      "Df Residuals:                      27   BIC:                                      601.7\n",
      "Df Model:                           3                                                  \n",
      "Covariance Type:            nonrobust                                                  \n",
      "==============================================================================\n",
      "                 coef    std err          t      P>|t|      [0.025      0.975]\n",
      "------------------------------------------------------------------------------\n",
      "x1          2494.8107    256.145      9.740      0.000    1969.244    3020.377\n",
      "x2             1.3531    318.990      0.004      0.997    -653.161     655.867\n",
      "x3           -26.5687     33.657     -0.789      0.437     -95.626      42.489\n",
      "==============================================================================\n",
      "Omnibus:                        0.440   Durbin-Watson:                   1.617\n",
      "Prob(Omnibus):                  0.803   Jarque-Bera (JB):                0.573\n",
      "Skew:                           0.109   Prob(JB):                        0.751\n",
      "Kurtosis:                       2.359   Cond. No.                         23.7\n",
      "==============================================================================\n",
      "\n",
      "Notes:\n",
      "[1] R² is computed without centering (uncentered) since the model does not contain a constant.\n",
      "[2] Standard Errors assume that the covariance matrix of the errors is correctly specified.\n",
      "MLR R2 degeri:\n",
      "0.585720705085402\n"
     ]
    }
   ],
   "source": [
    "lin_reg = LinearRegression()\n",
    "lin_reg.fit(X,Y)\n",
    "\n",
    "model = sm.OLS(lin_reg.predict(X),X)\n",
    "print(model.fit().summary())\n",
    "print(\"MLR R2 degeri:\")\n",
    "print(r2_score(Y,lin_reg.predict(X)))"
   ]
  },
  {
   "cell_type": "markdown",
   "id": "5d04d092",
   "metadata": {},
   "source": [
    "# PR"
   ]
  },
  {
   "cell_type": "code",
   "execution_count": 6,
   "id": "6e9b77d0",
   "metadata": {},
   "outputs": [
    {
     "data": {
      "text/plain": [
       "array([[1.0000000e+00, 1.0000000e+00, 5.0000000e+00, ..., 1.2250000e+05,\n",
       "        1.7150000e+06, 2.4010000e+07],\n",
       "       [1.0000000e+00, 2.0000000e+00, 5.0000000e+00, ..., 1.2250000e+05,\n",
       "        1.7150000e+06, 2.4010000e+07],\n",
       "       [1.0000000e+00, 3.0000000e+00, 5.0000000e+00, ..., 1.2250000e+05,\n",
       "        1.7150000e+06, 2.4010000e+07],\n",
       "       ...,\n",
       "       [1.0000000e+00, 8.0000000e+00, 1.0000000e+01, ..., 1.4440000e+05,\n",
       "        5.4872000e+05, 2.0851360e+06],\n",
       "       [1.0000000e+00, 9.0000000e+00, 1.0000000e+00, ..., 2.5000000e+03,\n",
       "        1.2500000e+05, 6.2500000e+06],\n",
       "       [1.0000000e+00, 1.0000000e+01, 9.0000000e+00, ..., 5.5800900e+05,\n",
       "        5.1460830e+06, 4.7458321e+07]])"
      ]
     },
     "execution_count": 6,
     "metadata": {},
     "output_type": "execute_result"
    }
   ],
   "source": [
    "poly_reg=PolynomialFeatures(degree=4)\n",
    "x_poly=poly_reg.fit_transform(X)\n",
    "x_poly\n"
   ]
  },
  {
   "cell_type": "code",
   "execution_count": 7,
   "id": "8d04f84d",
   "metadata": {},
   "outputs": [
    {
     "name": "stdout",
     "output_type": "stream",
     "text": [
      "                                 OLS Regression Results                                \n",
      "=======================================================================================\n",
      "Dep. Variable:                      y   R-squared (uncentered):                   0.680\n",
      "Model:                            OLS   Adj. R-squared (uncentered):              0.644\n",
      "Method:                 Least Squares   F-statistic:                              19.11\n",
      "Date:                Thu, 15 Jun 2023   Prob (F-statistic):                    7.49e-07\n",
      "Time:                        14:51:30   Log-Likelihood:                         -317.93\n",
      "No. Observations:                  30   AIC:                                      641.9\n",
      "Df Residuals:                      27   BIC:                                      646.1\n",
      "Df Model:                           3                                                  \n",
      "Covariance Type:            nonrobust                                                  \n",
      "==============================================================================\n",
      "                 coef    std err          t      P>|t|      [0.025      0.975]\n",
      "------------------------------------------------------------------------------\n",
      "x1          2494.8107    536.645      4.649      0.000    1393.705    3595.916\n",
      "x2             1.3531    668.311      0.002      0.998   -1369.907    1372.614\n",
      "x3           -26.5687     70.513     -0.377      0.709    -171.250     118.113\n",
      "==============================================================================\n",
      "Omnibus:                       39.861   Durbin-Watson:                   1.171\n",
      "Prob(Omnibus):                  0.000   Jarque-Bera (JB):              121.882\n",
      "Skew:                           2.862   Prob(JB):                     3.42e-27\n",
      "Kurtosis:                      11.046   Cond. No.                         23.7\n",
      "==============================================================================\n",
      "\n",
      "Notes:\n",
      "[1] R² is computed without centering (uncentered) since the model does not contain a constant.\n",
      "[2] Standard Errors assume that the covariance matrix of the errors is correctly specified.\n",
      "PR R2 degeri:\n",
      "0.999000356022587\n"
     ]
    }
   ],
   "source": [
    "lin_reg2=LinearRegression()\n",
    "lin_reg2.fit(x_poly,y)\n",
    "model2 = sm.OLS(lin_reg2.predict(poly_reg.fit_transform(X)),X)\n",
    "print(model2.fit().summary())\n",
    "print(\"PR R2 degeri:\")\n",
    "print(r2_score(Y, lin_reg2.predict(poly_reg.fit_transform(X))))"
   ]
  },
  {
   "cell_type": "markdown",
   "id": "a6939538",
   "metadata": {},
   "source": [
    "# SVR"
   ]
  },
  {
   "cell_type": "code",
   "execution_count": 8,
   "id": "438eed78",
   "metadata": {},
   "outputs": [],
   "source": [
    "sc = StandardScaler()\n",
    "X_train = sc.fit_transform(X) \n",
    "X_test = sc.fit_transform(Y)"
   ]
  },
  {
   "cell_type": "code",
   "execution_count": 9,
   "id": "4e8c6fd1",
   "metadata": {},
   "outputs": [],
   "source": [
    "scl = StandardScaler()\n",
    "x_olcekli = scl.fit_transform(X)\n",
    "sc2 = StandardScaler()\n",
    "y_olcekli = sc2.fit_transform(Y)"
   ]
  },
  {
   "cell_type": "code",
   "execution_count": 10,
   "id": "4fe42d06",
   "metadata": {},
   "outputs": [
    {
     "name": "stdout",
     "output_type": "stream",
     "text": [
      "SVR R2 degeri:\n",
      "0.6287203839391851\n"
     ]
    },
    {
     "name": "stderr",
     "output_type": "stream",
     "text": [
      "C:\\Users\\bedir\\anaconda3\\lib\\site-packages\\sklearn\\utils\\validation.py:1143: DataConversionWarning: A column-vector y was passed when a 1d array was expected. Please change the shape of y to (n_samples, ), for example using ravel().\n",
      "  y = column_or_1d(y, warn=True)\n"
     ]
    }
   ],
   "source": [
    "svr_reg = SVR(kernel = \"rbf\")\n",
    "svr_reg.fit(x_olcekli,y_olcekli)\n",
    "print(\"SVR R2 degeri:\")\n",
    "print(r2_score(y_olcekli, svr_reg.predict(x_olcekli)) )"
   ]
  },
  {
   "cell_type": "markdown",
   "id": "7abbe81b",
   "metadata": {},
   "source": [
    "# DT"
   ]
  },
  {
   "cell_type": "code",
   "execution_count": 11,
   "id": "fcbd20af",
   "metadata": {},
   "outputs": [
    {
     "name": "stdout",
     "output_type": "stream",
     "text": [
      "DT R2 degeri:\n",
      "1.0\n"
     ]
    }
   ],
   "source": [
    "r_dt = DecisionTreeRegressor(random_state=0)\n",
    "r_dt.fit(X,Y)\n",
    "print(\"DT R2 degeri:\")\n",
    "print(r2_score(Y, r_dt.predict(X)) )"
   ]
  },
  {
   "cell_type": "code",
   "execution_count": 12,
   "id": "aefa1418",
   "metadata": {},
   "outputs": [
    {
     "name": "stdout",
     "output_type": "stream",
     "text": [
      "dt ols\n",
      "                                 OLS Regression Results                                \n",
      "=======================================================================================\n",
      "Dep. Variable:                      y   R-squared (uncentered):                   0.350\n",
      "Model:                            OLS   Adj. R-squared (uncentered):              0.278\n",
      "Method:                 Least Squares   F-statistic:                              4.849\n",
      "Date:                Thu, 15 Jun 2023   Prob (F-statistic):                     0.00795\n",
      "Time:                        14:51:30   Log-Likelihood:                         -328.55\n",
      "No. Observations:                  30   AIC:                                      663.1\n",
      "Df Residuals:                      27   BIC:                                      667.3\n",
      "Df Model:                           3                                                  \n",
      "Covariance Type:            nonrobust                                                  \n",
      "==============================================================================\n",
      "                 coef    std err          t      P>|t|      [0.025      0.975]\n",
      "------------------------------------------------------------------------------\n",
      "x1          9857.9330   2686.800      3.669      0.001    4345.074    1.54e+04\n",
      "x2          2284.3219   2837.029      0.805      0.428   -3536.782    8105.425\n",
      "x3          1586.0124   2816.427      0.563      0.578   -4192.818    7364.843\n",
      "==============================================================================\n",
      "Omnibus:                       22.560   Durbin-Watson:                   0.436\n",
      "Prob(Omnibus):                  0.000   Jarque-Bera (JB):               34.017\n",
      "Skew:                           1.818   Prob(JB):                     4.11e-08\n",
      "Kurtosis:                       6.740   Cond. No.                         1.44\n",
      "==============================================================================\n",
      "\n",
      "Notes:\n",
      "[1] R² is computed without centering (uncentered) since the model does not contain a constant.\n",
      "[2] Standard Errors assume that the covariance matrix of the errors is correctly specified.\n"
     ]
    }
   ],
   "source": [
    "print('dt ols') \n",
    "model3 = sm.OLS(r_dt.predict(X),x_olcekli)\n",
    "print(model3. fit().summary())"
   ]
  },
  {
   "cell_type": "markdown",
   "id": "c66e63a9",
   "metadata": {},
   "source": [
    "# RF"
   ]
  },
  {
   "cell_type": "code",
   "execution_count": 13,
   "id": "6250bec8",
   "metadata": {},
   "outputs": [
    {
     "name": "stdout",
     "output_type": "stream",
     "text": [
      "RF R2 degeri\n",
      "0.9475498704400864\n"
     ]
    }
   ],
   "source": [
    "rf_reg=RandomForestRegressor(n_estimators = 10,random_state=0)\n",
    "rf_reg.fit(X,Y.ravel())\n",
    "print(\"RF R2 degeri\")\n",
    "print(r2_score(Y, rf_reg.predict(X)))"
   ]
  },
  {
   "cell_type": "markdown",
   "id": "e906d1d2",
   "metadata": {},
   "source": [
    "# KARŞILAŞTIRMA"
   ]
  },
  {
   "cell_type": "code",
   "execution_count": 14,
   "id": "0fc8cf6c",
   "metadata": {},
   "outputs": [
    {
     "name": "stdout",
     "output_type": "stream",
     "text": [
      "MLR R2 degeri:\n",
      "0.585720705085402\n",
      "PR R2 degeri:\n",
      "0.999000356022587\n",
      "SVR R2 degeri:\n",
      "0.6287203839391851\n",
      "DT R2 degeri:\n",
      "1.0\n",
      "RF R2 degeri\n",
      "0.9475498704400864\n"
     ]
    }
   ],
   "source": [
    "print(\"MLR R2 degeri:\")\n",
    "print(r2_score(Y,lin_reg.predict(X)))\n",
    "print(\"PR R2 degeri:\")\n",
    "print(r2_score(Y, lin_reg2.predict(poly_reg.fit_transform(X))))\n",
    "print(\"SVR R2 degeri:\")\n",
    "print(r2_score(y_olcekli, svr_reg.predict(x_olcekli)))\n",
    "print(\"DT R2 degeri:\")\n",
    "print(r2_score(Y, r_dt.predict(X)) )\n",
    "print(\"RF R2 degeri\")\n",
    "print(r2_score(Y, rf_reg.predict(X)))"
   ]
  },
  {
   "cell_type": "markdown",
   "id": "a482c9a1",
   "metadata": {},
   "source": [
    "# KARŞILAŞTIRMANIN GÖRSELLEŞTİRİLMESİ"
   ]
  },
  {
   "cell_type": "code",
   "execution_count": 18,
   "id": "084e26e9",
   "metadata": {},
   "outputs": [
    {
     "data": {
      "image/png": "[encoded data removed]",
      "text/plain": [
       "<Figure size 640x480 with 1 Axes>"
      ]
     },
     "metadata": {},
     "output_type": "display_data"
    }
   ],
   "source": [
    "# R2 değerleri\n",
    "r2_values = [r2_score(Y, lin_reg.predict(X)),\n",
    "             r2_score(Y, lin_reg2.predict(poly_reg.fit_transform(X))),\n",
    "             r2_score(y_olcekli, svr_reg.predict(x_olcekli)),\n",
    "             r2_score(Y, r_dt.predict(X)),\n",
    "             r2_score(Y, rf_reg.predict(X))]\n",
    "\n",
    "# Modellerin isimleri\n",
    "model_names = ['MLR', 'PR', 'SVR', 'DT', 'RF']\n",
    "\n",
    "# Grafiği çizme\n",
    "plt.bar(model_names, r2_values)\n",
    "plt.title('R2 Değerleri')\n",
    "plt.xlabel('Model')\n",
    "plt.ylabel('R2 Değeri')\n",
    "plt.show()"
   ]
  },
  {
   "cell_type": "code",
   "execution_count": 19,
   "id": "523a019a",
   "metadata": {},
   "outputs": [
    {
     "name": "stderr",
     "output_type": "stream",
     "text": [
      "C:\\Users\\bedir\\AppData\\Local\\Temp\\ipykernel_1928\\2627137660.py:1: FutureWarning: The default value of numeric_only in DataFrame.corr is deprecated. In a future version, it will default to False. Select only valid columns or specify the value of numeric_only to silence this warning.\n",
      "  data.corr()\n"
     ]
    },
    {
     "data": {
      "text/html": [
       "<div>\n",
       "<style scoped>\n",
       "    .dataframe tbody tr th:only-of-type {\n",
       "        vertical-align: middle;\n",
       "    }\n",
       "\n",
       "    .dataframe tbody tr th {\n",
       "        vertical-align: top;\n",
       "    }\n",
       "\n",
       "    .dataframe thead th {\n",
       "        text-align: right;\n",
       "    }\n",
       "</style>\n",
       "<table border=\"1\" class=\"dataframe\">\n",
       "  <thead>\n",
       "    <tr style=\"text-align: right;\">\n",
       "      <th></th>\n",
       "      <th>Calisan ID</th>\n",
       "      <th>UnvanSeviyesi</th>\n",
       "      <th>Kidem</th>\n",
       "      <th>Puan</th>\n",
       "      <th>maas</th>\n",
       "    </tr>\n",
       "  </thead>\n",
       "  <tbody>\n",
       "    <tr>\n",
       "      <th>Calisan ID</th>\n",
       "      <td>1.000000</td>\n",
       "      <td>0.331847</td>\n",
       "      <td>0.206278</td>\n",
       "      <td>-0.251278</td>\n",
       "      <td>0.226287</td>\n",
       "    </tr>\n",
       "    <tr>\n",
       "      <th>UnvanSeviyesi</th>\n",
       "      <td>0.331847</td>\n",
       "      <td>1.000000</td>\n",
       "      <td>-0.125200</td>\n",
       "      <td>0.034948</td>\n",
       "      <td>0.727036</td>\n",
       "    </tr>\n",
       "    <tr>\n",
       "      <th>Kidem</th>\n",
       "      <td>0.206278</td>\n",
       "      <td>-0.125200</td>\n",
       "      <td>1.000000</td>\n",
       "      <td>0.322796</td>\n",
       "      <td>0.117964</td>\n",
       "    </tr>\n",
       "    <tr>\n",
       "      <th>Puan</th>\n",
       "      <td>-0.251278</td>\n",
       "      <td>0.034948</td>\n",
       "      <td>0.322796</td>\n",
       "      <td>1.000000</td>\n",
       "      <td>0.201474</td>\n",
       "    </tr>\n",
       "    <tr>\n",
       "      <th>maas</th>\n",
       "      <td>0.226287</td>\n",
       "      <td>0.727036</td>\n",
       "      <td>0.117964</td>\n",
       "      <td>0.201474</td>\n",
       "      <td>1.000000</td>\n",
       "    </tr>\n",
       "  </tbody>\n",
       "</table>\n",
       "</div>"
      ],
      "text/plain": [
       "               Calisan ID  UnvanSeviyesi     Kidem      Puan      maas\n",
       "Calisan ID       1.000000       0.331847  0.206278 -0.251278  0.226287\n",
       "UnvanSeviyesi    0.331847       1.000000 -0.125200  0.034948  0.727036\n",
       "Kidem            0.206278      -0.125200  1.000000  0.322796  0.117964\n",
       "Puan            -0.251278       0.034948  0.322796  1.000000  0.201474\n",
       "maas             0.226287       0.727036  0.117964  0.201474  1.000000"
      ]
     },
     "execution_count": 19,
     "metadata": {},
     "output_type": "execute_result"
    }
   ],
   "source": [
    "data.corr()"
   ]
  },
  {
   "cell_type": "code",
   "execution_count": null,
   "id": "f396b15c",
   "metadata": {},
   "outputs": [],
   "source": []
  }
 ],
 "metadata": {
  "kernelspec": {
   "display_name": "Python 3 (ipykernel)",
   "language": "python",
   "name": "python3"
  },
  "language_info": {
   "codemirror_mode": {
    "name": "ipython",
    "version": 3
   },
   "file_extension": ".py",
   "mimetype": "text/x-python",
   "name": "python",
   "nbconvert_exporter": "python",
   "pygments_lexer": "ipython3",
   "version": "3.9.16"
  }
 },
 "nbformat": 4,
 "nbformat_minor": 5
}
